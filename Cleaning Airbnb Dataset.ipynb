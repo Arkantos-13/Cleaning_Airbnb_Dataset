{
 "cells": [
  {
   "cell_type": "markdown",
   "id": "154cb78e-799e-4c35-a24d-df7eb7bacc32",
   "metadata": {},
   "source": [
    "Import the liblaries"
   ]
  },
  {
   "cell_type": "code",
   "execution_count": 1,
   "id": "49fceb27-c174-4c61-8bf1-bc452ff80bb7",
   "metadata": {},
   "outputs": [],
   "source": [
    "import pandas as pd\n",
    "import numpy as np\n",
    "import matplotlib\n",
    "import seaborn as sb\n",
    "import matplotlib.pyplot as plt\n",
    "import matplotlib.cm as cmx\n",
    "import matplotlib.colors as colors\n",
    "import math\n",
    "import pylab\n",
    "import scipy.stats as stats\n",
    "%matplotlib inline\n",
    "import warnings\n",
    "warnings.filterwarnings('ignore')"
   ]
  },
  {
   "cell_type": "code",
   "execution_count": 2,
   "id": "66ff73e1-bab6-4652-bb80-bd62fc606d04",
   "metadata": {},
   "outputs": [],
   "source": [
    "# The only columns we want to use for this project \n",
    "\n",
    "cols = [\n",
    "    'id',\n",
    "    'host_id',\n",
    "    'zipcode',\n",
    "    'property_type',\n",
    "    'room_type',\n",
    "    'accommodates',\n",
    "    'bedrooms',\n",
    "    'beds',\n",
    "    'bed_type',\n",
    "    'price',\n",
    "    'number_of_reviews',\n",
    "    'review_scores_rating',\n",
    "    'host_listing_count',\n",
    "    'availability_30',\n",
    "    'minimum_nights',\n",
    "    'bathrooms'\n",
    "]\n",
    "\n",
    "data = pd.read_csv('listings.csv', usecols=cols, encoding='latin-1')"
   ]
  },
  {
   "cell_type": "code",
   "execution_count": 3,
   "id": "c782b6c4-996c-4c9c-82e6-76006200113c",
   "metadata": {},
   "outputs": [
    {
     "data": {
      "text/html": [
       "<div>\n",
       "<style scoped>\n",
       "    .dataframe tbody tr th:only-of-type {\n",
       "        vertical-align: middle;\n",
       "    }\n",
       "\n",
       "    .dataframe tbody tr th {\n",
       "        vertical-align: top;\n",
       "    }\n",
       "\n",
       "    .dataframe thead th {\n",
       "        text-align: right;\n",
       "    }\n",
       "</style>\n",
       "<table border=\"1\" class=\"dataframe\">\n",
       "  <thead>\n",
       "    <tr style=\"text-align: right;\">\n",
       "      <th></th>\n",
       "      <th>id</th>\n",
       "      <th>host_id</th>\n",
       "      <th>zipcode</th>\n",
       "      <th>property_type</th>\n",
       "      <th>room_type</th>\n",
       "      <th>accommodates</th>\n",
       "      <th>bathrooms</th>\n",
       "      <th>bedrooms</th>\n",
       "      <th>beds</th>\n",
       "      <th>bed_type</th>\n",
       "      <th>price</th>\n",
       "      <th>minimum_nights</th>\n",
       "      <th>availability_30</th>\n",
       "      <th>number_of_reviews</th>\n",
       "      <th>review_scores_rating</th>\n",
       "      <th>host_listing_count</th>\n",
       "    </tr>\n",
       "  </thead>\n",
       "  <tbody>\n",
       "    <tr>\n",
       "      <th>0</th>\n",
       "      <td>1069266</td>\n",
       "      <td>5867023</td>\n",
       "      <td>10022-4175</td>\n",
       "      <td>Apartment</td>\n",
       "      <td>Entire home/apt</td>\n",
       "      <td>2</td>\n",
       "      <td>1.0</td>\n",
       "      <td>1.0</td>\n",
       "      <td>1.0</td>\n",
       "      <td>Real Bed</td>\n",
       "      <td>$160.00</td>\n",
       "      <td>3</td>\n",
       "      <td>21</td>\n",
       "      <td>62</td>\n",
       "      <td>86.0</td>\n",
       "      <td>1</td>\n",
       "    </tr>\n",
       "    <tr>\n",
       "      <th>1</th>\n",
       "      <td>1846722</td>\n",
       "      <td>2631556</td>\n",
       "      <td>NaN</td>\n",
       "      <td>Apartment</td>\n",
       "      <td>Entire home/apt</td>\n",
       "      <td>10</td>\n",
       "      <td>1.0</td>\n",
       "      <td>3.0</td>\n",
       "      <td>3.0</td>\n",
       "      <td>Real Bed</td>\n",
       "      <td>$105.00</td>\n",
       "      <td>1</td>\n",
       "      <td>28</td>\n",
       "      <td>22</td>\n",
       "      <td>85.0</td>\n",
       "      <td>2</td>\n",
       "    </tr>\n",
       "    <tr>\n",
       "      <th>2</th>\n",
       "      <td>2061725</td>\n",
       "      <td>4601412</td>\n",
       "      <td>11221</td>\n",
       "      <td>Apartment</td>\n",
       "      <td>Private room</td>\n",
       "      <td>2</td>\n",
       "      <td>1.0</td>\n",
       "      <td>1.0</td>\n",
       "      <td>2.0</td>\n",
       "      <td>Real Bed</td>\n",
       "      <td>$58.00</td>\n",
       "      <td>3</td>\n",
       "      <td>4</td>\n",
       "      <td>35</td>\n",
       "      <td>98.0</td>\n",
       "      <td>4</td>\n",
       "    </tr>\n",
       "    <tr>\n",
       "      <th>3</th>\n",
       "      <td>44974</td>\n",
       "      <td>198425</td>\n",
       "      <td>10011</td>\n",
       "      <td>Apartment</td>\n",
       "      <td>Entire home/apt</td>\n",
       "      <td>2</td>\n",
       "      <td>1.0</td>\n",
       "      <td>1.0</td>\n",
       "      <td>1.0</td>\n",
       "      <td>Real Bed</td>\n",
       "      <td>$185.00</td>\n",
       "      <td>10</td>\n",
       "      <td>1</td>\n",
       "      <td>26</td>\n",
       "      <td>96.0</td>\n",
       "      <td>1</td>\n",
       "    </tr>\n",
       "    <tr>\n",
       "      <th>4</th>\n",
       "      <td>4701675</td>\n",
       "      <td>22590025</td>\n",
       "      <td>10011</td>\n",
       "      <td>Apartment</td>\n",
       "      <td>Entire home/apt</td>\n",
       "      <td>2</td>\n",
       "      <td>1.0</td>\n",
       "      <td>1.0</td>\n",
       "      <td>2.0</td>\n",
       "      <td>Real Bed</td>\n",
       "      <td>$195.00</td>\n",
       "      <td>1</td>\n",
       "      <td>30</td>\n",
       "      <td>1</td>\n",
       "      <td>100.0</td>\n",
       "      <td>1</td>\n",
       "    </tr>\n",
       "  </tbody>\n",
       "</table>\n",
       "</div>"
      ],
      "text/plain": [
       "        id   host_id     zipcode property_type        room_type  accommodates  \\\n",
       "0  1069266   5867023  10022-4175     Apartment  Entire home/apt             2   \n",
       "1  1846722   2631556         NaN     Apartment  Entire home/apt            10   \n",
       "2  2061725   4601412       11221     Apartment     Private room             2   \n",
       "3    44974    198425       10011     Apartment  Entire home/apt             2   \n",
       "4  4701675  22590025       10011     Apartment  Entire home/apt             2   \n",
       "\n",
       "   bathrooms  bedrooms  beds  bed_type     price  minimum_nights  \\\n",
       "0        1.0       1.0   1.0  Real Bed  $160.00                3   \n",
       "1        1.0       3.0   3.0  Real Bed  $105.00                1   \n",
       "2        1.0       1.0   2.0  Real Bed   $58.00                3   \n",
       "3        1.0       1.0   1.0  Real Bed  $185.00               10   \n",
       "4        1.0       1.0   2.0  Real Bed  $195.00                1   \n",
       "\n",
       "   availability_30  number_of_reviews  review_scores_rating  \\\n",
       "0               21                 62                  86.0   \n",
       "1               28                 22                  85.0   \n",
       "2                4                 35                  98.0   \n",
       "3                1                 26                  96.0   \n",
       "4               30                  1                 100.0   \n",
       "\n",
       "   host_listing_count  \n",
       "0                   1  \n",
       "1                   2  \n",
       "2                   4  \n",
       "3                   1  \n",
       "4                   1  "
      ]
     },
     "execution_count": 3,
     "metadata": {},
     "output_type": "execute_result"
    }
   ],
   "source": [
    "data.head()"
   ]
  },
  {
   "cell_type": "code",
   "execution_count": 4,
   "id": "05b7a9f1-be2b-4eb9-843a-2cbb64f8530c",
   "metadata": {},
   "outputs": [
    {
     "data": {
      "text/plain": [
       "id                        int64\n",
       "host_id                   int64\n",
       "zipcode                  object\n",
       "property_type            object\n",
       "room_type                object\n",
       "accommodates              int64\n",
       "bathrooms               float64\n",
       "bedrooms                float64\n",
       "beds                    float64\n",
       "bed_type                 object\n",
       "price                    object\n",
       "minimum_nights            int64\n",
       "availability_30           int64\n",
       "number_of_reviews         int64\n",
       "review_scores_rating    float64\n",
       "host_listing_count        int64\n",
       "dtype: object"
      ]
     },
     "execution_count": 4,
     "metadata": {},
     "output_type": "execute_result"
    }
   ],
   "source": [
    "data.dtypes"
   ]
  },
  {
   "cell_type": "markdown",
   "id": "30dbdd9b-397f-4127-a732-9c9dc44cbee7",
   "metadata": {},
   "source": [
    "1. Find the columns with missing values \n",
    "(Some of the best ways to do it)"
   ]
  },
  {
   "cell_type": "code",
   "execution_count": 5,
   "id": "bdb5fa65-91fb-403b-bedb-2a6a8b0d9b20",
   "metadata": {},
   "outputs": [
    {
     "data": {
      "text/plain": [
       "id                         0\n",
       "host_id                    0\n",
       "zipcode                  162\n",
       "property_type              6\n",
       "room_type                  0\n",
       "accommodates               0\n",
       "bathrooms                463\n",
       "bedrooms                 140\n",
       "beds                      98\n",
       "bed_type                   0\n",
       "price                      0\n",
       "minimum_nights             0\n",
       "availability_30            0\n",
       "number_of_reviews          0\n",
       "review_scores_rating    8657\n",
       "host_listing_count         0\n",
       "dtype: int64"
      ]
     },
     "execution_count": 5,
     "metadata": {},
     "output_type": "execute_result"
    }
   ],
   "source": [
    "# The most common way in order to view all the missing data in through each column is the below \n",
    "# However there is a new way, as you can see in the next \n",
    "\n",
    "data.isnull().sum()"
   ]
  },
  {
   "cell_type": "code",
   "execution_count": 6,
   "id": "db985226-b771-4419-b744-e20835a88834",
   "metadata": {},
   "outputs": [
    {
     "name": "stdout",
     "output_type": "stream",
     "text": [
      "The name of the column is  id  ,The total number of Missing Values are:   0\n",
      "The name of the column is  host_id  ,The total number of Missing Values are:   0\n",
      "The name of the column is  zipcode  ,The total number of Missing Values are:   162\n",
      "The name of the column is  property_type  ,The total number of Missing Values are:   6\n",
      "The name of the column is  room_type  ,The total number of Missing Values are:   0\n",
      "The name of the column is  accommodates  ,The total number of Missing Values are:   0\n",
      "The name of the column is  bathrooms  ,The total number of Missing Values are:   463\n",
      "The name of the column is  bedrooms  ,The total number of Missing Values are:   140\n",
      "The name of the column is  beds  ,The total number of Missing Values are:   98\n",
      "The name of the column is  bed_type  ,The total number of Missing Values are:   0\n",
      "The name of the column is  price  ,The total number of Missing Values are:   0\n",
      "The name of the column is  minimum_nights  ,The total number of Missing Values are:   0\n",
      "The name of the column is  availability_30  ,The total number of Missing Values are:   0\n",
      "The name of the column is  number_of_reviews  ,The total number of Missing Values are:   0\n",
      "The name of the column is  review_scores_rating  ,The total number of Missing Values are:   8657\n",
      "The name of the column is  host_listing_count  ,The total number of Missing Values are:   0\n"
     ]
    }
   ],
   "source": [
    "# The new way\n",
    "\n",
    "for col in data.columns:\n",
    "    print('The name of the column is  ' + col + '  ,The total number of Missing Values are:  ', len(data[col][data[col].isnull()]))"
   ]
  },
  {
   "cell_type": "code",
   "execution_count": 7,
   "id": "3e6fbc6d-dc95-4f6d-a619-f6861431ce05",
   "metadata": {},
   "outputs": [
    {
     "data": {
      "text/plain": [
       "162"
      ]
     },
     "execution_count": 7,
     "metadata": {},
     "output_type": "execute_result"
    }
   ],
   "source": [
    "# If you want to search for a specific column in our dataset \n",
    "\n",
    "len(data['zipcode'][data['zipcode'].isnull()])"
   ]
  },
  {
   "cell_type": "code",
   "execution_count": 8,
   "id": "fbfa42a3-0bdd-4fce-b56e-cf024aff15c5",
   "metadata": {},
   "outputs": [
    {
     "name": "stdout",
     "output_type": "stream",
     "text": [
      "Here is the name of all data columns with missing data: \n",
      " ['zipcode', 'property_type', 'bathrooms', 'bedrooms', 'beds', 'review_scores_rating']\n"
     ]
    }
   ],
   "source": [
    "# First new way \n",
    "\n",
    "missing_values = [col for col in data.columns if data[col].isnull().any()]\n",
    "    \n",
    "print('Here is the name of all data columns with missing data: \\n',  missing_values)"
   ]
  },
  {
   "cell_type": "code",
   "execution_count": 9,
   "id": "5dfb5e12-d491-4a31-bca7-c1cf4ace2dbc",
   "metadata": {},
   "outputs": [
    {
     "data": {
      "text/plain": [
       "['zipcode',\n",
       " 'property_type',\n",
       " 'bathrooms',\n",
       " 'bedrooms',\n",
       " 'beds',\n",
       " 'review_scores_rating']"
      ]
     },
     "execution_count": 9,
     "metadata": {},
     "output_type": "execute_result"
    }
   ],
   "source": [
    "# Second new way\n",
    "\n",
    "data.columns[data.isna().any()].tolist()"
   ]
  },
  {
   "cell_type": "markdown",
   "id": "d62ac411-5f6d-417d-afd9-420053eb4e6e",
   "metadata": {},
   "source": [
    "1. Remove NaN values from dataframe except review_scores_rating"
   ]
  },
  {
   "cell_type": "code",
   "execution_count": 10,
   "id": "49b95f32-e983-4529-a4b9-44af6566606c",
   "metadata": {},
   "outputs": [
    {
     "name": "stdout",
     "output_type": "stream",
     "text": [
      "Number of NaN values removed after the process are:  769\n"
     ]
    }
   ],
   "source": [
    "original_data = len(data)\n",
    "\n",
    "data = data.dropna(how = 'any', subset = ['zipcode', 'property_type', 'bedrooms', 'beds', 'bathrooms'])\n",
    "\n",
    "print('Number of NaN values removed after the process are: ', original_data - len(data))"
   ]
  },
  {
   "cell_type": "markdown",
   "id": "bc9cd9ac-b11d-41d9-b910-f3306e412216",
   "metadata": {},
   "source": [
    "1.1 Remove the $ symbol from our column price"
   ]
  },
  {
   "cell_type": "code",
   "execution_count": 11,
   "id": "91d51a95-b90a-480c-a1ca-808d58e125e2",
   "metadata": {},
   "outputs": [
    {
     "data": {
      "text/plain": [
       "0        $160.00 \n",
       "2         $58.00 \n",
       "3        $185.00 \n",
       "4        $195.00 \n",
       "5        $165.00 \n",
       "           ...   \n",
       "27386    $190.00 \n",
       "27388    $139.00 \n",
       "27389     $99.00 \n",
       "27390     $55.00 \n",
       "27391    $110.00 \n",
       "Name: price, Length: 26623, dtype: object"
      ]
     },
     "execution_count": 11,
     "metadata": {},
     "output_type": "execute_result"
    }
   ],
   "source": [
    "data['price']"
   ]
  },
  {
   "cell_type": "code",
   "execution_count": 12,
   "id": "e7736308-d506-483b-b582-3f1b87bcdd21",
   "metadata": {},
   "outputs": [
    {
     "data": {
      "text/plain": [
       "0        160.00 \n",
       "2         58.00 \n",
       "3        185.00 \n",
       "4        195.00 \n",
       "5        165.00 \n",
       "          ...   \n",
       "27386    190.00 \n",
       "27388    139.00 \n",
       "27389     99.00 \n",
       "27390     55.00 \n",
       "27391    110.00 \n",
       "Name: price, Length: 26623, dtype: object"
      ]
     },
     "execution_count": 12,
     "metadata": {},
     "output_type": "execute_result"
    }
   ],
   "source": [
    "# Better way using regex\n",
    "\n",
    "data['price'] = data['price'].replace(r'\\$', '' ,regex=True)\n",
    "data['price']"
   ]
  },
  {
   "cell_type": "code",
   "execution_count": 13,
   "id": "ac9c1174-4815-4534-b352-e91532759b5c",
   "metadata": {},
   "outputs": [
    {
     "data": {
      "text/plain": [
       "0        160.00 \n",
       "2         58.00 \n",
       "3        185.00 \n",
       "4        195.00 \n",
       "5        165.00 \n",
       "          ...   \n",
       "27386    190.00 \n",
       "27388    139.00 \n",
       "27389     99.00 \n",
       "27390     55.00 \n",
       "27391    110.00 \n",
       "Name: price, Length: 26623, dtype: object"
      ]
     },
     "execution_count": 13,
     "metadata": {},
     "output_type": "execute_result"
    }
   ],
   "source": [
    "# Another way using numpy \n",
    "\n",
    "data['price'] = data['price'].replace(\"?\", \"np.Nan\")\n",
    "data['price']"
   ]
  },
  {
   "cell_type": "markdown",
   "id": "6c5263e8-064c-4189-8ac2-44c6575b0faf",
   "metadata": {},
   "source": [
    "2. Drop any invalid values in tha dataset"
   ]
  },
  {
   "cell_type": "code",
   "execution_count": 14,
   "id": "e72db119-b3c8-42c5-91cd-0beeb7fe3a15",
   "metadata": {},
   "outputs": [
    {
     "name": "stdout",
     "output_type": "stream",
     "text": [
      "Number of Accommodates 0: 0\n",
      "Number of Bedrooms 0: 2321\n",
      "Number of Beds 0: 0\n",
      "Number of Listings with Price $0.00: 0\n"
     ]
    }
   ],
   "source": [
    "print ('Number of Accommodates 0:', len(data[data['accommodates'] == 0]))\n",
    "print ('Number of Bedrooms 0:', len(data[data['bedrooms'] == 0]))\n",
    "print ('Number of Beds 0:', len(data[data['beds'] == 0]))\n",
    "print ('Number of Listings with Price $0.00:', len(data[data['price'] == 0.00]))"
   ]
  },
  {
   "cell_type": "markdown",
   "id": "5724b266-78ad-4404-ab22-3db693b45bd7",
   "metadata": {},
   "source": [
    "3. Convert Zipcode to 5 digits"
   ]
  },
  {
   "cell_type": "code",
   "execution_count": 15,
   "id": "76518d48-c8a2-409c-acbd-7fe99045801a",
   "metadata": {
    "tags": []
   },
   "outputs": [
    {
     "data": {
      "text/plain": [
       "0        10022-4175\n",
       "2             11221\n",
       "3             10011\n",
       "4             10011\n",
       "5             11231\n",
       "            ...    \n",
       "27386         10003\n",
       "27388         10019\n",
       "27389         10301\n",
       "27390         11213\n",
       "27391         10018\n",
       "Name: zipcode, Length: 26623, dtype: object"
      ]
     },
     "execution_count": 15,
     "metadata": {},
     "output_type": "execute_result"
    }
   ],
   "source": [
    "# This is how it looks now\n",
    "\n",
    "data['zipcode']"
   ]
  },
  {
   "cell_type": "code",
   "execution_count": 16,
   "id": "3058d1b3-4d23-4d22-9554-6cf282ea337f",
   "metadata": {},
   "outputs": [
    {
     "data": {
      "text/plain": [
       "0        10\n",
       "2         5\n",
       "3         5\n",
       "4         5\n",
       "5         5\n",
       "         ..\n",
       "27386     5\n",
       "27388     5\n",
       "27389     5\n",
       "27390     5\n",
       "27391     5\n",
       "Name: zipcode, Length: 26623, dtype: int64"
      ]
     },
     "execution_count": 16,
     "metadata": {},
     "output_type": "execute_result"
    }
   ],
   "source": [
    "# This way counts everything in the column even the - \n",
    "\n",
    "data['zipcode'].astype(str).str.len()"
   ]
  },
  {
   "cell_type": "code",
   "execution_count": 17,
   "id": "5cb31735-551a-4310-a2cb-fff9d8b843cd",
   "metadata": {},
   "outputs": [
    {
     "data": {
      "text/plain": [
       "0        9\n",
       "2        5\n",
       "3        5\n",
       "4        5\n",
       "5        5\n",
       "        ..\n",
       "27386    5\n",
       "27388    5\n",
       "27389    5\n",
       "27390    5\n",
       "27391    5\n",
       "Name: zipcode, Length: 26623, dtype: int64"
      ]
     },
     "execution_count": 17,
     "metadata": {},
     "output_type": "execute_result"
    }
   ],
   "source": [
    "# This way only count the digits of the column \n",
    "\n",
    "data['zipcode'].str.count('\\d')"
   ]
  },
  {
   "cell_type": "code",
   "execution_count": 18,
   "id": "48ee3368-d289-4654-8dd5-2d6ff2d53adc",
   "metadata": {},
   "outputs": [
    {
     "data": {
      "text/html": [
       "<div>\n",
       "<style scoped>\n",
       "    .dataframe tbody tr th:only-of-type {\n",
       "        vertical-align: middle;\n",
       "    }\n",
       "\n",
       "    .dataframe tbody tr th {\n",
       "        vertical-align: top;\n",
       "    }\n",
       "\n",
       "    .dataframe thead th {\n",
       "        text-align: right;\n",
       "    }\n",
       "</style>\n",
       "<table border=\"1\" class=\"dataframe\">\n",
       "  <thead>\n",
       "    <tr style=\"text-align: right;\">\n",
       "      <th></th>\n",
       "      <th>id</th>\n",
       "      <th>host_id</th>\n",
       "      <th>zipcode</th>\n",
       "      <th>property_type</th>\n",
       "      <th>room_type</th>\n",
       "      <th>accommodates</th>\n",
       "      <th>bathrooms</th>\n",
       "      <th>bedrooms</th>\n",
       "      <th>beds</th>\n",
       "      <th>bed_type</th>\n",
       "      <th>price</th>\n",
       "      <th>minimum_nights</th>\n",
       "      <th>availability_30</th>\n",
       "      <th>number_of_reviews</th>\n",
       "      <th>review_scores_rating</th>\n",
       "      <th>host_listing_count</th>\n",
       "    </tr>\n",
       "  </thead>\n",
       "  <tbody>\n",
       "    <tr>\n",
       "      <th>0</th>\n",
       "      <td>1069266</td>\n",
       "      <td>5867023</td>\n",
       "      <td>10022-4175</td>\n",
       "      <td>Apartment</td>\n",
       "      <td>Entire home/apt</td>\n",
       "      <td>2</td>\n",
       "      <td>1.0</td>\n",
       "      <td>1.0</td>\n",
       "      <td>1.0</td>\n",
       "      <td>Real Bed</td>\n",
       "      <td>160.00</td>\n",
       "      <td>3</td>\n",
       "      <td>21</td>\n",
       "      <td>62</td>\n",
       "      <td>86.0</td>\n",
       "      <td>1</td>\n",
       "    </tr>\n",
       "    <tr>\n",
       "      <th>2</th>\n",
       "      <td>2061725</td>\n",
       "      <td>4601412</td>\n",
       "      <td>11221</td>\n",
       "      <td>Apartment</td>\n",
       "      <td>Private room</td>\n",
       "      <td>2</td>\n",
       "      <td>1.0</td>\n",
       "      <td>1.0</td>\n",
       "      <td>2.0</td>\n",
       "      <td>Real Bed</td>\n",
       "      <td>58.00</td>\n",
       "      <td>3</td>\n",
       "      <td>4</td>\n",
       "      <td>35</td>\n",
       "      <td>98.0</td>\n",
       "      <td>4</td>\n",
       "    </tr>\n",
       "    <tr>\n",
       "      <th>3</th>\n",
       "      <td>44974</td>\n",
       "      <td>198425</td>\n",
       "      <td>10011</td>\n",
       "      <td>Apartment</td>\n",
       "      <td>Entire home/apt</td>\n",
       "      <td>2</td>\n",
       "      <td>1.0</td>\n",
       "      <td>1.0</td>\n",
       "      <td>1.0</td>\n",
       "      <td>Real Bed</td>\n",
       "      <td>185.00</td>\n",
       "      <td>10</td>\n",
       "      <td>1</td>\n",
       "      <td>26</td>\n",
       "      <td>96.0</td>\n",
       "      <td>1</td>\n",
       "    </tr>\n",
       "    <tr>\n",
       "      <th>4</th>\n",
       "      <td>4701675</td>\n",
       "      <td>22590025</td>\n",
       "      <td>10011</td>\n",
       "      <td>Apartment</td>\n",
       "      <td>Entire home/apt</td>\n",
       "      <td>2</td>\n",
       "      <td>1.0</td>\n",
       "      <td>1.0</td>\n",
       "      <td>2.0</td>\n",
       "      <td>Real Bed</td>\n",
       "      <td>195.00</td>\n",
       "      <td>1</td>\n",
       "      <td>30</td>\n",
       "      <td>1</td>\n",
       "      <td>100.0</td>\n",
       "      <td>1</td>\n",
       "    </tr>\n",
       "    <tr>\n",
       "      <th>5</th>\n",
       "      <td>68914</td>\n",
       "      <td>343302</td>\n",
       "      <td>11231</td>\n",
       "      <td>Apartment</td>\n",
       "      <td>Entire home/apt</td>\n",
       "      <td>6</td>\n",
       "      <td>1.0</td>\n",
       "      <td>2.0</td>\n",
       "      <td>3.0</td>\n",
       "      <td>Real Bed</td>\n",
       "      <td>165.00</td>\n",
       "      <td>2</td>\n",
       "      <td>11</td>\n",
       "      <td>16</td>\n",
       "      <td>96.0</td>\n",
       "      <td>2</td>\n",
       "    </tr>\n",
       "  </tbody>\n",
       "</table>\n",
       "</div>"
      ],
      "text/plain": [
       "        id   host_id     zipcode property_type        room_type  accommodates  \\\n",
       "0  1069266   5867023  10022-4175     Apartment  Entire home/apt             2   \n",
       "2  2061725   4601412       11221     Apartment     Private room             2   \n",
       "3    44974    198425       10011     Apartment  Entire home/apt             2   \n",
       "4  4701675  22590025       10011     Apartment  Entire home/apt             2   \n",
       "5    68914    343302       11231     Apartment  Entire home/apt             6   \n",
       "\n",
       "   bathrooms  bedrooms  beds  bed_type    price  minimum_nights  \\\n",
       "0        1.0       1.0   1.0  Real Bed  160.00                3   \n",
       "2        1.0       1.0   2.0  Real Bed   58.00                3   \n",
       "3        1.0       1.0   1.0  Real Bed  185.00               10   \n",
       "4        1.0       1.0   2.0  Real Bed  195.00                1   \n",
       "5        1.0       2.0   3.0  Real Bed  165.00                2   \n",
       "\n",
       "   availability_30  number_of_reviews  review_scores_rating  \\\n",
       "0               21                 62                  86.0   \n",
       "2                4                 35                  98.0   \n",
       "3                1                 26                  96.0   \n",
       "4               30                  1                 100.0   \n",
       "5               11                 16                  96.0   \n",
       "\n",
       "   host_listing_count  \n",
       "0                   1  \n",
       "2                   4  \n",
       "3                   1  \n",
       "4                   1  \n",
       "5                   2  "
      ]
     },
     "execution_count": 18,
     "metadata": {},
     "output_type": "execute_result"
    }
   ],
   "source": [
    "# The old dataframe\n",
    "\n",
    "data.head()"
   ]
  },
  {
   "cell_type": "code",
   "execution_count": 19,
   "id": "65fa675e-a390-4081-85d3-17316d85b844",
   "metadata": {},
   "outputs": [
    {
     "data": {
      "text/html": [
       "<div>\n",
       "<style scoped>\n",
       "    .dataframe tbody tr th:only-of-type {\n",
       "        vertical-align: middle;\n",
       "    }\n",
       "\n",
       "    .dataframe tbody tr th {\n",
       "        vertical-align: top;\n",
       "    }\n",
       "\n",
       "    .dataframe thead th {\n",
       "        text-align: right;\n",
       "    }\n",
       "</style>\n",
       "<table border=\"1\" class=\"dataframe\">\n",
       "  <thead>\n",
       "    <tr style=\"text-align: right;\">\n",
       "      <th></th>\n",
       "      <th>id</th>\n",
       "      <th>host_id</th>\n",
       "      <th>zipcode</th>\n",
       "      <th>property_type</th>\n",
       "      <th>room_type</th>\n",
       "      <th>accommodates</th>\n",
       "      <th>bathrooms</th>\n",
       "      <th>bedrooms</th>\n",
       "      <th>beds</th>\n",
       "      <th>bed_type</th>\n",
       "      <th>price</th>\n",
       "      <th>minimum_nights</th>\n",
       "      <th>availability_30</th>\n",
       "      <th>number_of_reviews</th>\n",
       "      <th>review_scores_rating</th>\n",
       "      <th>host_listing_count</th>\n",
       "    </tr>\n",
       "  </thead>\n",
       "  <tbody>\n",
       "    <tr>\n",
       "      <th>0</th>\n",
       "      <td>1069266</td>\n",
       "      <td>5867023</td>\n",
       "      <td>10022</td>\n",
       "      <td>Apartment</td>\n",
       "      <td>Entire home/apt</td>\n",
       "      <td>2</td>\n",
       "      <td>1.0</td>\n",
       "      <td>1.0</td>\n",
       "      <td>1.0</td>\n",
       "      <td>Real Bed</td>\n",
       "      <td>160.00</td>\n",
       "      <td>3</td>\n",
       "      <td>21</td>\n",
       "      <td>62</td>\n",
       "      <td>86.0</td>\n",
       "      <td>1</td>\n",
       "    </tr>\n",
       "    <tr>\n",
       "      <th>2</th>\n",
       "      <td>2061725</td>\n",
       "      <td>4601412</td>\n",
       "      <td>11221</td>\n",
       "      <td>Apartment</td>\n",
       "      <td>Private room</td>\n",
       "      <td>2</td>\n",
       "      <td>1.0</td>\n",
       "      <td>1.0</td>\n",
       "      <td>2.0</td>\n",
       "      <td>Real Bed</td>\n",
       "      <td>58.00</td>\n",
       "      <td>3</td>\n",
       "      <td>4</td>\n",
       "      <td>35</td>\n",
       "      <td>98.0</td>\n",
       "      <td>4</td>\n",
       "    </tr>\n",
       "    <tr>\n",
       "      <th>3</th>\n",
       "      <td>44974</td>\n",
       "      <td>198425</td>\n",
       "      <td>10011</td>\n",
       "      <td>Apartment</td>\n",
       "      <td>Entire home/apt</td>\n",
       "      <td>2</td>\n",
       "      <td>1.0</td>\n",
       "      <td>1.0</td>\n",
       "      <td>1.0</td>\n",
       "      <td>Real Bed</td>\n",
       "      <td>185.00</td>\n",
       "      <td>10</td>\n",
       "      <td>1</td>\n",
       "      <td>26</td>\n",
       "      <td>96.0</td>\n",
       "      <td>1</td>\n",
       "    </tr>\n",
       "    <tr>\n",
       "      <th>4</th>\n",
       "      <td>4701675</td>\n",
       "      <td>22590025</td>\n",
       "      <td>10011</td>\n",
       "      <td>Apartment</td>\n",
       "      <td>Entire home/apt</td>\n",
       "      <td>2</td>\n",
       "      <td>1.0</td>\n",
       "      <td>1.0</td>\n",
       "      <td>2.0</td>\n",
       "      <td>Real Bed</td>\n",
       "      <td>195.00</td>\n",
       "      <td>1</td>\n",
       "      <td>30</td>\n",
       "      <td>1</td>\n",
       "      <td>100.0</td>\n",
       "      <td>1</td>\n",
       "    </tr>\n",
       "    <tr>\n",
       "      <th>5</th>\n",
       "      <td>68914</td>\n",
       "      <td>343302</td>\n",
       "      <td>11231</td>\n",
       "      <td>Apartment</td>\n",
       "      <td>Entire home/apt</td>\n",
       "      <td>6</td>\n",
       "      <td>1.0</td>\n",
       "      <td>2.0</td>\n",
       "      <td>3.0</td>\n",
       "      <td>Real Bed</td>\n",
       "      <td>165.00</td>\n",
       "      <td>2</td>\n",
       "      <td>11</td>\n",
       "      <td>16</td>\n",
       "      <td>96.0</td>\n",
       "      <td>2</td>\n",
       "    </tr>\n",
       "  </tbody>\n",
       "</table>\n",
       "</div>"
      ],
      "text/plain": [
       "        id   host_id zipcode property_type        room_type  accommodates  \\\n",
       "0  1069266   5867023   10022     Apartment  Entire home/apt             2   \n",
       "2  2061725   4601412   11221     Apartment     Private room             2   \n",
       "3    44974    198425   10011     Apartment  Entire home/apt             2   \n",
       "4  4701675  22590025   10011     Apartment  Entire home/apt             2   \n",
       "5    68914    343302   11231     Apartment  Entire home/apt             6   \n",
       "\n",
       "   bathrooms  bedrooms  beds  bed_type    price  minimum_nights  \\\n",
       "0        1.0       1.0   1.0  Real Bed  160.00                3   \n",
       "2        1.0       1.0   2.0  Real Bed   58.00                3   \n",
       "3        1.0       1.0   1.0  Real Bed  185.00               10   \n",
       "4        1.0       1.0   2.0  Real Bed  195.00                1   \n",
       "5        1.0       2.0   3.0  Real Bed  165.00                2   \n",
       "\n",
       "   availability_30  number_of_reviews  review_scores_rating  \\\n",
       "0               21                 62                  86.0   \n",
       "2                4                 35                  98.0   \n",
       "3                1                 26                  96.0   \n",
       "4               30                  1                 100.0   \n",
       "5               11                 16                  96.0   \n",
       "\n",
       "   host_listing_count  \n",
       "0                   1  \n",
       "2                   4  \n",
       "3                   1  \n",
       "4                   1  \n",
       "5                   2  "
      ]
     },
     "execution_count": 19,
     "metadata": {},
     "output_type": "execute_result"
    }
   ],
   "source": [
    "# The new dataframe after we converted the column \n",
    "\n",
    "data['zipcode'] = data['zipcode'].str.replace(r'-\\d+', '')\n",
    "data.head()"
   ]
  },
  {
   "cell_type": "code",
   "execution_count": 20,
   "id": "d81dc7a3-606a-4c44-b848-ef075284657e",
   "metadata": {},
   "outputs": [
    {
     "data": {
      "text/plain": [
       "26619"
      ]
     },
     "execution_count": 20,
     "metadata": {},
     "output_type": "execute_result"
    }
   ],
   "source": [
    "# ensure all zipcodes are of length 5\n",
    "\n",
    "data = data[data['zipcode'].map(len) == 5]\n",
    "data['zipcode'].value_counts().sum()"
   ]
  },
  {
   "cell_type": "code",
   "execution_count": 21,
   "id": "4f9072bc-a1e1-4a7b-9e58-f88623bd00b4",
   "metadata": {},
   "outputs": [
    {
     "name": "stdout",
     "output_type": "stream",
     "text": [
      "Number of missing review scores ratings: 8489\n"
     ]
    }
   ],
   "source": [
    "print('Number of missing review scores ratings:', len(data['review_scores_rating'][data['review_scores_rating'].isnull()]))"
   ]
  },
  {
   "cell_type": "markdown",
   "id": "b58316cd-ed56-4dd9-974f-219668dc557b",
   "metadata": {},
   "source": [
    "3. Let's explore distribution of accommodates"
   ]
  },
  {
   "cell_type": "code",
   "execution_count": 22,
   "id": "ae5a80e9-4d55-4517-a5ae-f60237a5fc22",
   "metadata": {},
   "outputs": [
    {
     "name": "stdout",
     "output_type": "stream",
     "text": [
      "Number of Unique Accomodation:  [ 1  2  3  4  5  6  7  8  9 10 11 12 13 14 15 16]\n"
     ]
    }
   ],
   "source": [
    "print('Number of Unique Accomodation: ', np.unique(data['accommodates']))"
   ]
  },
  {
   "cell_type": "code",
   "execution_count": 23,
   "id": "5ebbac40-e065-4f42-8d0d-1d6051982da3",
   "metadata": {},
   "outputs": [
    {
     "name": "stdout",
     "output_type": "stream",
     "text": [
      "Number of accomadation 1: 2704\n",
      "Number of accomadation 2: 12907\n",
      "Number of accomadation 3: 3315\n",
      "Number of accomadation 4: 4585\n",
      "Number of accomadation 5: 1004\n",
      "Number of accomadation 6: 1224\n",
      "Number of accomadation 7: 218\n",
      "Number of accomadation 8: 333\n",
      "Number of accomadation 9: 57\n",
      "Number of accomadation 10: 119\n",
      "Number of accomadation 11: 15\n",
      "Number of accomadation 12: 43\n",
      "Number of accomadation 13: 4\n",
      "Number of accomadation 14: 14\n",
      "Number of accomadation 15: 5\n",
      "Number of accomadation 16: 72\n"
     ]
    }
   ],
   "source": [
    "for _ in range(1,17):\n",
    "    print('Number of accomadation {}:'.format(_) , len(data[data['accommodates'] == _ ]))"
   ]
  },
  {
   "cell_type": "code",
   "execution_count": 24,
   "id": "45158e10-c59f-4741-a67f-eaaf60af029a",
   "metadata": {},
   "outputs": [
    {
     "data": {
      "text/plain": [
       "accommodates\n",
       "1      2704\n",
       "2     12907\n",
       "3      3315\n",
       "4      4585\n",
       "5      1004\n",
       "6      1224\n",
       "7       218\n",
       "8       333\n",
       "9        57\n",
       "10      119\n",
       "11       15\n",
       "12       43\n",
       "13        4\n",
       "14       14\n",
       "15        5\n",
       "16       72\n",
       "Name: id, dtype: int64"
      ]
     },
     "execution_count": 24,
     "metadata": {},
     "output_type": "execute_result"
    }
   ],
   "source": [
    "# Groupby the accomadates by their id and after we will sort it\n",
    "\n",
    "sort_data = data.groupby('accommodates').agg('count')['id']\n",
    "sort_data"
   ]
  },
  {
   "cell_type": "code",
   "execution_count": 25,
   "id": "bb7837a9-02a0-4826-ab39-8a033c937ac6",
   "metadata": {},
   "outputs": [
    {
     "data": {
      "text/plain": [
       "accommodates\n",
       "2     12907\n",
       "4      4585\n",
       "3      3315\n",
       "1      2704\n",
       "6      1224\n",
       "5      1004\n",
       "8       333\n",
       "7       218\n",
       "10      119\n",
       "16       72\n",
       "9        57\n",
       "12       43\n",
       "11       15\n",
       "14       14\n",
       "15        5\n",
       "13        4\n",
       "Name: id, dtype: int64"
      ]
     },
     "execution_count": 25,
     "metadata": {},
     "output_type": "execute_result"
    }
   ],
   "source": [
    "sort_data.sort_values(ascending=False)"
   ]
  },
  {
   "cell_type": "markdown",
   "id": "ab408869-1d36-4db4-ac2e-7beb41ac0732",
   "metadata": {},
   "source": [
    "5. Visualize distribution of price, accommodations, beds, and review_scores_rating respectively"
   ]
  },
  {
   "cell_type": "markdown",
   "id": "1c2b3758-f8cc-429b-8c4b-dcbf5f6b87c0",
   "metadata": {},
   "source": [
    "5.1 Accommodations"
   ]
  },
  {
   "cell_type": "code",
   "execution_count": 26,
   "id": "de008a2a-5119-4528-9859-bf458bc16795",
   "metadata": {},
   "outputs": [
    {
     "data": {
      "image/png": "[encoded data removed]",
      "text/plain": [
       "<Figure size 432x288 with 1 Axes>"
      ]
     },
     "metadata": {
      "needs_background": "light"
     },
     "output_type": "display_data"
    }
   ],
   "source": [
    "plt.hist(data['accommodates'], bins = 30, color = 'skyblue')\n",
    "plt.title('Histogram of Accommadations')\n",
    "plt.xlabel('Number of Accommadations')\n",
    "plt.ylabel('Frequency')\n",
    "plt.show()"
   ]
  },
  {
   "cell_type": "markdown",
   "id": "dce91649-d265-410c-9bbf-33efca62c6e9",
   "metadata": {},
   "source": [
    "As we can notice the majority of accomodations are for 1-4 people, and more specific for 2 and then for 4 people"
   ]
  },
  {
   "cell_type": "markdown",
   "id": "1420e2f5-cbde-449a-8a0a-3852a4062100",
   "metadata": {},
   "source": [
    "5.2 Beds"
   ]
  },
  {
   "cell_type": "markdown",
   "id": "43c776a9-03a0-4661-a9b9-3a0d19124dec",
   "metadata": {},
   "source": [
    "First of all, we have to underastand the unique values of beds we have in our dataset and then to find out the accommodations for those"
   ]
  },
  {
   "cell_type": "code",
   "execution_count": 27,
   "id": "41d57064-d125-4366-ace7-98f9ab8a6acc",
   "metadata": {},
   "outputs": [
    {
     "name": "stdout",
     "output_type": "stream",
     "text": [
      "Number of Unique Beds:  [ 1.  2.  3.  4.  5.  6.  7.  8.  9. 10. 11. 12. 13. 14. 16.]\n"
     ]
    }
   ],
   "source": [
    "print('Number of Unique Beds: ', np.unique(data['beds']))"
   ]
  },
  {
   "cell_type": "code",
   "execution_count": 28,
   "id": "0187522e-3b8f-4443-aa15-d52616035353",
   "metadata": {},
   "outputs": [
    {
     "name": "stdout",
     "output_type": "stream",
     "text": [
      "Beds 1: 17831\n",
      "Beds 2: 5865\n",
      "Beds 3: 1801\n",
      "Beds 4: 618\n",
      "Beds 5: 244\n",
      "Beds 6: 118\n",
      "Beds 7: 41\n",
      "Beds 8: 22\n",
      "Beds 9: 3\n",
      "Beds 10: 20\n",
      "Beds 11: 4\n",
      "Beds 12: 9\n",
      "Beds 13: 1\n",
      "Beds 14: 15\n",
      "Beds 15: 0\n",
      "Beds 16: 27\n"
     ]
    }
   ],
   "source": [
    "for _ in range(1, 17):\n",
    "    print('Beds {}:'.format(_), len(data[data['beds'] == _]))"
   ]
  },
  {
   "cell_type": "markdown",
   "id": "b4af4cfe-94f8-4638-a086-0ca655169e90",
   "metadata": {},
   "source": [
    "As we can notice,for instance the accommodations for 2 beds are 5865 but for 9 beds it's only 3 "
   ]
  },
  {
   "cell_type": "code",
   "execution_count": 29,
   "id": "2f70212d-1d34-4b0d-8ce5-1bfe8b33c604",
   "metadata": {},
   "outputs": [
    {
     "data": {
      "image/png": "[encoded data removed]",
      "text/plain": [
       "<Figure size 432x288 with 1 Axes>"
      ]
     },
     "metadata": {
      "needs_background": "light"
     },
     "output_type": "display_data"
    }
   ],
   "source": [
    "# Visualize the distribution of beds\n",
    "\n",
    "plt.hist(data['beds'], bins = 30, color = 'skyblue')\n",
    "plt.title(\"Histogram of Beds\")\n",
    "plt.xlabel(\"Bed Count\")\n",
    "plt.ylabel(\"Frequency\")\n",
    "plt.show()"
   ]
  },
  {
   "cell_type": "code",
   "execution_count": 30,
   "id": "c55ceea5-35ea-4c95-89e7-07155089caa9",
   "metadata": {},
   "outputs": [
    {
     "data": {
      "image/png": "[encoded data removed]",
      "text/plain": [
       "<Figure size 432x288 with 1 Axes>"
      ]
     },
     "metadata": {
      "needs_background": "light"
     },
     "output_type": "display_data"
    }
   ],
   "source": [
    "# Visualize distribution of review scores ratings\n",
    "\n",
    "plt.hist(data['review_scores_rating'][~data['review_scores_rating'].isnull()], color = 'skyblue')\n",
    "plt.title(\"Histogram of Review Scores Ratings\")\n",
    "plt.xlabel(\"Review Score\")\n",
    "plt.ylabel(\"Frequency\")\n",
    "plt.show()"
   ]
  },
  {
   "cell_type": "markdown",
   "id": "e36ecc02-9de4-4941-abc9-fdcd667c7b98",
   "metadata": {},
   "source": [
    "6. Convert NaN scores with 0 reviews into 'No Reviews'"
   ]
  },
  {
   "cell_type": "code",
   "execution_count": 31,
   "id": "80f0c35d-d0cb-4187-95aa-74c1df81cc28",
   "metadata": {},
   "outputs": [],
   "source": [
    "idx_vals = data['review_scores_rating'][data['number_of_reviews'] == 0].index.values.tolist()\n",
    "data.loc[idx_vals, 'review_scores_rating'] = data['review_scores_rating'][data['number_of_reviews'] == 0].replace(np.nan, 'No Reviews')"
   ]
  },
  {
   "cell_type": "code",
   "execution_count": 32,
   "id": "1c5c561a-71a9-4073-8ebc-4f40df1e1b44",
   "metadata": {},
   "outputs": [
    {
     "data": {
      "text/html": [
       "<div>\n",
       "<style scoped>\n",
       "    .dataframe tbody tr th:only-of-type {\n",
       "        vertical-align: middle;\n",
       "    }\n",
       "\n",
       "    .dataframe tbody tr th {\n",
       "        vertical-align: top;\n",
       "    }\n",
       "\n",
       "    .dataframe thead th {\n",
       "        text-align: right;\n",
       "    }\n",
       "</style>\n",
       "<table border=\"1\" class=\"dataframe\">\n",
       "  <thead>\n",
       "    <tr style=\"text-align: right;\">\n",
       "      <th></th>\n",
       "      <th>id</th>\n",
       "      <th>host_id</th>\n",
       "      <th>zipcode</th>\n",
       "      <th>property_type</th>\n",
       "      <th>room_type</th>\n",
       "      <th>accommodates</th>\n",
       "      <th>bathrooms</th>\n",
       "      <th>bedrooms</th>\n",
       "      <th>beds</th>\n",
       "      <th>bed_type</th>\n",
       "      <th>price</th>\n",
       "      <th>minimum_nights</th>\n",
       "      <th>availability_30</th>\n",
       "      <th>number_of_reviews</th>\n",
       "      <th>review_scores_rating</th>\n",
       "      <th>host_listing_count</th>\n",
       "    </tr>\n",
       "  </thead>\n",
       "  <tbody>\n",
       "    <tr>\n",
       "      <th>0</th>\n",
       "      <td>1069266</td>\n",
       "      <td>5867023</td>\n",
       "      <td>10022</td>\n",
       "      <td>Apartment</td>\n",
       "      <td>Entire home/apt</td>\n",
       "      <td>2</td>\n",
       "      <td>1.0</td>\n",
       "      <td>1.0</td>\n",
       "      <td>1.0</td>\n",
       "      <td>Real Bed</td>\n",
       "      <td>160.00</td>\n",
       "      <td>3</td>\n",
       "      <td>21</td>\n",
       "      <td>62</td>\n",
       "      <td>86.0</td>\n",
       "      <td>1</td>\n",
       "    </tr>\n",
       "    <tr>\n",
       "      <th>2</th>\n",
       "      <td>2061725</td>\n",
       "      <td>4601412</td>\n",
       "      <td>11221</td>\n",
       "      <td>Apartment</td>\n",
       "      <td>Private room</td>\n",
       "      <td>2</td>\n",
       "      <td>1.0</td>\n",
       "      <td>1.0</td>\n",
       "      <td>2.0</td>\n",
       "      <td>Real Bed</td>\n",
       "      <td>58.00</td>\n",
       "      <td>3</td>\n",
       "      <td>4</td>\n",
       "      <td>35</td>\n",
       "      <td>98.0</td>\n",
       "      <td>4</td>\n",
       "    </tr>\n",
       "    <tr>\n",
       "      <th>3</th>\n",
       "      <td>44974</td>\n",
       "      <td>198425</td>\n",
       "      <td>10011</td>\n",
       "      <td>Apartment</td>\n",
       "      <td>Entire home/apt</td>\n",
       "      <td>2</td>\n",
       "      <td>1.0</td>\n",
       "      <td>1.0</td>\n",
       "      <td>1.0</td>\n",
       "      <td>Real Bed</td>\n",
       "      <td>185.00</td>\n",
       "      <td>10</td>\n",
       "      <td>1</td>\n",
       "      <td>26</td>\n",
       "      <td>96.0</td>\n",
       "      <td>1</td>\n",
       "    </tr>\n",
       "    <tr>\n",
       "      <th>4</th>\n",
       "      <td>4701675</td>\n",
       "      <td>22590025</td>\n",
       "      <td>10011</td>\n",
       "      <td>Apartment</td>\n",
       "      <td>Entire home/apt</td>\n",
       "      <td>2</td>\n",
       "      <td>1.0</td>\n",
       "      <td>1.0</td>\n",
       "      <td>2.0</td>\n",
       "      <td>Real Bed</td>\n",
       "      <td>195.00</td>\n",
       "      <td>1</td>\n",
       "      <td>30</td>\n",
       "      <td>1</td>\n",
       "      <td>100.0</td>\n",
       "      <td>1</td>\n",
       "    </tr>\n",
       "    <tr>\n",
       "      <th>5</th>\n",
       "      <td>68914</td>\n",
       "      <td>343302</td>\n",
       "      <td>11231</td>\n",
       "      <td>Apartment</td>\n",
       "      <td>Entire home/apt</td>\n",
       "      <td>6</td>\n",
       "      <td>1.0</td>\n",
       "      <td>2.0</td>\n",
       "      <td>3.0</td>\n",
       "      <td>Real Bed</td>\n",
       "      <td>165.00</td>\n",
       "      <td>2</td>\n",
       "      <td>11</td>\n",
       "      <td>16</td>\n",
       "      <td>96.0</td>\n",
       "      <td>2</td>\n",
       "    </tr>\n",
       "    <tr>\n",
       "      <th>6</th>\n",
       "      <td>4832596</td>\n",
       "      <td>4148973</td>\n",
       "      <td>11207</td>\n",
       "      <td>Apartment</td>\n",
       "      <td>Private room</td>\n",
       "      <td>2</td>\n",
       "      <td>1.0</td>\n",
       "      <td>1.0</td>\n",
       "      <td>1.0</td>\n",
       "      <td>Real Bed</td>\n",
       "      <td>80.00</td>\n",
       "      <td>1</td>\n",
       "      <td>29</td>\n",
       "      <td>0</td>\n",
       "      <td>No Reviews</td>\n",
       "      <td>1</td>\n",
       "    </tr>\n",
       "    <tr>\n",
       "      <th>7</th>\n",
       "      <td>2562510</td>\n",
       "      <td>13119459</td>\n",
       "      <td>10013</td>\n",
       "      <td>Apartment</td>\n",
       "      <td>Private room</td>\n",
       "      <td>2</td>\n",
       "      <td>1.0</td>\n",
       "      <td>1.0</td>\n",
       "      <td>1.0</td>\n",
       "      <td>Real Bed</td>\n",
       "      <td>120.00</td>\n",
       "      <td>2</td>\n",
       "      <td>5</td>\n",
       "      <td>0</td>\n",
       "      <td>No Reviews</td>\n",
       "      <td>1</td>\n",
       "    </tr>\n",
       "    <tr>\n",
       "      <th>8</th>\n",
       "      <td>3005360</td>\n",
       "      <td>4421803</td>\n",
       "      <td>10003</td>\n",
       "      <td>Apartment</td>\n",
       "      <td>Entire home/apt</td>\n",
       "      <td>4</td>\n",
       "      <td>1.0</td>\n",
       "      <td>2.0</td>\n",
       "      <td>2.0</td>\n",
       "      <td>Real Bed</td>\n",
       "      <td>150.00</td>\n",
       "      <td>1</td>\n",
       "      <td>30</td>\n",
       "      <td>14</td>\n",
       "      <td>96.0</td>\n",
       "      <td>4</td>\n",
       "    </tr>\n",
       "    <tr>\n",
       "      <th>9</th>\n",
       "      <td>2431607</td>\n",
       "      <td>4973668</td>\n",
       "      <td>11221</td>\n",
       "      <td>Apartment</td>\n",
       "      <td>Shared room</td>\n",
       "      <td>2</td>\n",
       "      <td>1.0</td>\n",
       "      <td>1.0</td>\n",
       "      <td>1.0</td>\n",
       "      <td>Real Bed</td>\n",
       "      <td>40.00</td>\n",
       "      <td>4</td>\n",
       "      <td>0</td>\n",
       "      <td>10</td>\n",
       "      <td>94.0</td>\n",
       "      <td>4</td>\n",
       "    </tr>\n",
       "    <tr>\n",
       "      <th>11</th>\n",
       "      <td>4833061</td>\n",
       "      <td>24879430</td>\n",
       "      <td>11221</td>\n",
       "      <td>Apartment</td>\n",
       "      <td>Private room</td>\n",
       "      <td>2</td>\n",
       "      <td>1.0</td>\n",
       "      <td>1.0</td>\n",
       "      <td>1.0</td>\n",
       "      <td>Real Bed</td>\n",
       "      <td>75.00</td>\n",
       "      <td>1</td>\n",
       "      <td>2</td>\n",
       "      <td>0</td>\n",
       "      <td>No Reviews</td>\n",
       "      <td>1</td>\n",
       "    </tr>\n",
       "  </tbody>\n",
       "</table>\n",
       "</div>"
      ],
      "text/plain": [
       "         id   host_id zipcode property_type        room_type  accommodates  \\\n",
       "0   1069266   5867023   10022     Apartment  Entire home/apt             2   \n",
       "2   2061725   4601412   11221     Apartment     Private room             2   \n",
       "3     44974    198425   10011     Apartment  Entire home/apt             2   \n",
       "4   4701675  22590025   10011     Apartment  Entire home/apt             2   \n",
       "5     68914    343302   11231     Apartment  Entire home/apt             6   \n",
       "6   4832596   4148973   11207     Apartment     Private room             2   \n",
       "7   2562510  13119459   10013     Apartment     Private room             2   \n",
       "8   3005360   4421803   10003     Apartment  Entire home/apt             4   \n",
       "9   2431607   4973668   11221     Apartment      Shared room             2   \n",
       "11  4833061  24879430   11221     Apartment     Private room             2   \n",
       "\n",
       "    bathrooms  bedrooms  beds  bed_type    price  minimum_nights  \\\n",
       "0         1.0       1.0   1.0  Real Bed  160.00                3   \n",
       "2         1.0       1.0   2.0  Real Bed   58.00                3   \n",
       "3         1.0       1.0   1.0  Real Bed  185.00               10   \n",
       "4         1.0       1.0   2.0  Real Bed  195.00                1   \n",
       "5         1.0       2.0   3.0  Real Bed  165.00                2   \n",
       "6         1.0       1.0   1.0  Real Bed   80.00                1   \n",
       "7         1.0       1.0   1.0  Real Bed  120.00                2   \n",
       "8         1.0       2.0   2.0  Real Bed  150.00                1   \n",
       "9         1.0       1.0   1.0  Real Bed   40.00                4   \n",
       "11        1.0       1.0   1.0  Real Bed   75.00                1   \n",
       "\n",
       "    availability_30  number_of_reviews review_scores_rating  \\\n",
       "0                21                 62                 86.0   \n",
       "2                 4                 35                 98.0   \n",
       "3                 1                 26                 96.0   \n",
       "4                30                  1                100.0   \n",
       "5                11                 16                 96.0   \n",
       "6                29                  0           No Reviews   \n",
       "7                 5                  0           No Reviews   \n",
       "8                30                 14                 96.0   \n",
       "9                 0                 10                 94.0   \n",
       "11                2                  0           No Reviews   \n",
       "\n",
       "    host_listing_count  \n",
       "0                    1  \n",
       "2                    4  \n",
       "3                    1  \n",
       "4                    1  \n",
       "5                    2  \n",
       "6                    1  \n",
       "7                    1  \n",
       "8                    4  \n",
       "9                    4  \n",
       "11                   1  "
      ]
     },
     "execution_count": 32,
     "metadata": {},
     "output_type": "execute_result"
    }
   ],
   "source": [
    "data.head(10)"
   ]
  },
  {
   "cell_type": "code",
   "execution_count": 33,
   "id": "11b5934c-2b5c-4c16-8b91-ead5be80e289",
   "metadata": {},
   "outputs": [
    {
     "data": {
      "text/plain": [
       "id                        0\n",
       "host_id                   0\n",
       "zipcode                   0\n",
       "property_type             0\n",
       "room_type                 0\n",
       "accommodates              0\n",
       "bathrooms                 0\n",
       "bedrooms                  0\n",
       "beds                      0\n",
       "bed_type                  0\n",
       "price                     0\n",
       "minimum_nights            0\n",
       "availability_30           0\n",
       "number_of_reviews         0\n",
       "review_scores_rating    282\n",
       "host_listing_count        0\n",
       "dtype: int64"
      ]
     },
     "execution_count": 33,
     "metadata": {},
     "output_type": "execute_result"
    }
   ],
   "source": [
    "# Check if we still have NaN values and if so we will remove them\n",
    "data.isnull().sum()"
   ]
  },
  {
   "cell_type": "code",
   "execution_count": 34,
   "id": "6c386d08-7d81-4e04-a2bc-7e4e5145f42c",
   "metadata": {},
   "outputs": [
    {
     "data": {
      "text/plain": [
       "id                      0\n",
       "host_id                 0\n",
       "zipcode                 0\n",
       "property_type           0\n",
       "room_type               0\n",
       "accommodates            0\n",
       "bathrooms               0\n",
       "bedrooms                0\n",
       "beds                    0\n",
       "bed_type                0\n",
       "price                   0\n",
       "minimum_nights          0\n",
       "availability_30         0\n",
       "number_of_reviews       0\n",
       "review_scores_rating    0\n",
       "host_listing_count      0\n",
       "dtype: int64"
      ]
     },
     "execution_count": 34,
     "metadata": {},
     "output_type": "execute_result"
    }
   ],
   "source": [
    "data = data[~data['review_scores_rating'].isnull()]\n",
    "data.isnull().sum()"
   ]
  },
  {
   "cell_type": "markdown",
   "id": "2239f55c-d503-422f-88a9-e8c439b157e1",
   "metadata": {},
   "source": [
    "7. Convert review_scores_rating into different buckets"
   ]
  },
  {
   "cell_type": "code",
   "execution_count": 35,
   "id": "81a58e4b-c381-409a-aeb0-29fff8e818ae",
   "metadata": {},
   "outputs": [
    {
     "data": {
      "text/plain": [
       "No Reviews    8207\n",
       "100.0         4431\n",
       "90.0          1339\n",
       "93.0          1312\n",
       "80.0          1105\n",
       "95.0          1055\n",
       "96.0          1034\n",
       "97.0           986\n",
       "94.0           788\n",
       "98.0           750\n",
       "92.0           703\n",
       "91.0           683\n",
       "87.0           590\n",
       "89.0           518\n",
       "88.0           480\n",
       "99.0           316\n",
       "85.0           289\n",
       "84.0           268\n",
       "86.0           246\n",
       "83.0           226\n",
       "60.0           168\n",
       "70.0           101\n",
       "82.0           101\n",
       "77.0            76\n",
       "73.0            75\n",
       "78.0            57\n",
       "81.0            56\n",
       "76.0            56\n",
       "75.0            55\n",
       "79.0            40\n",
       "74.0            31\n",
       "67.0            26\n",
       "40.0            21\n",
       "72.0            20\n",
       "20.0            20\n",
       "71.0            15\n",
       "68.0            14\n",
       "65.0            13\n",
       "50.0            13\n",
       "69.0            11\n",
       "64.0             9\n",
       "66.0             5\n",
       "62.0             3\n",
       "57.0             3\n",
       "55.0             3\n",
       "43.0             2\n",
       "48.0             2\n",
       "47.0             2\n",
       "53.0             2\n",
       "61.0             2\n",
       "54.0             2\n",
       "49.0             2\n",
       "58.0             1\n",
       "63.0             1\n",
       "34.0             1\n",
       "30.0             1\n",
       "56.0             1\n",
       "Name: review_scores_rating, dtype: int64"
      ]
     },
     "execution_count": 35,
     "metadata": {},
     "output_type": "execute_result"
    }
   ],
   "source": [
    "data['review_scores_rating'].value_counts().sort_values(ascending=False)"
   ]
  },
  {
   "cell_type": "code",
   "execution_count": 36,
   "id": "808ea621-497b-4b40-b5f3-800006b53bb8",
   "metadata": {},
   "outputs": [],
   "source": [
    "def convert_scores_buckets(val):\n",
    "    if val == 'No Reviews':\n",
    "        return '0'\n",
    "    elif val >= 95.0:\n",
    "        return '1'\n",
    "    elif val >= 90.0 and val < 95.0:\n",
    "        return '2'\n",
    "    elif val >= 85.0 and val < 90.0:\n",
    "        return '3'\n",
    "    elif val >= 80.0 and val < 85.0:\n",
    "        return '4'\n",
    "    elif val >= 70.0 and val < 80.0:\n",
    "        return '5'\n",
    "    elif val >= 60.0 and val < 70.0:\n",
    "        return '6'\n",
    "    elif val >= 50.0 and val < 60.0:\n",
    "        return '7'\n",
    "    elif val >= 40.0 and val < 50.0:\n",
    "        return '8'\n",
    "    elif val >= 30.0 and val < 40.0:\n",
    "        return '9'\n",
    "    elif val >= 20.0 and val < 30.0:\n",
    "        return '10'\n",
    "    elif val >= 10.0 and val < 20.0:\n",
    "        return '11'\n",
    "    elif val < 10.0:\n",
    "        return '12'"
   ]
  },
  {
   "cell_type": "code",
   "execution_count": 37,
   "id": "942aacfc-78a5-4fd7-b83e-ce6aee3c7922",
   "metadata": {},
   "outputs": [
    {
     "data": {
      "text/html": [
       "<div>\n",
       "<style scoped>\n",
       "    .dataframe tbody tr th:only-of-type {\n",
       "        vertical-align: middle;\n",
       "    }\n",
       "\n",
       "    .dataframe tbody tr th {\n",
       "        vertical-align: top;\n",
       "    }\n",
       "\n",
       "    .dataframe thead th {\n",
       "        text-align: right;\n",
       "    }\n",
       "</style>\n",
       "<table border=\"1\" class=\"dataframe\">\n",
       "  <thead>\n",
       "    <tr style=\"text-align: right;\">\n",
       "      <th></th>\n",
       "      <th>id</th>\n",
       "      <th>host_id</th>\n",
       "      <th>zipcode</th>\n",
       "      <th>property_type</th>\n",
       "      <th>room_type</th>\n",
       "      <th>accommodates</th>\n",
       "      <th>bathrooms</th>\n",
       "      <th>bedrooms</th>\n",
       "      <th>beds</th>\n",
       "      <th>bed_type</th>\n",
       "      <th>price</th>\n",
       "      <th>minimum_nights</th>\n",
       "      <th>availability_30</th>\n",
       "      <th>number_of_reviews</th>\n",
       "      <th>review_scores_rating</th>\n",
       "      <th>host_listing_count</th>\n",
       "    </tr>\n",
       "  </thead>\n",
       "  <tbody>\n",
       "    <tr>\n",
       "      <th>0</th>\n",
       "      <td>1069266</td>\n",
       "      <td>5867023</td>\n",
       "      <td>10022</td>\n",
       "      <td>Apartment</td>\n",
       "      <td>Entire home/apt</td>\n",
       "      <td>2</td>\n",
       "      <td>1.0</td>\n",
       "      <td>1.0</td>\n",
       "      <td>1.0</td>\n",
       "      <td>Real Bed</td>\n",
       "      <td>160.00</td>\n",
       "      <td>3</td>\n",
       "      <td>21</td>\n",
       "      <td>62</td>\n",
       "      <td>3</td>\n",
       "      <td>1</td>\n",
       "    </tr>\n",
       "    <tr>\n",
       "      <th>2</th>\n",
       "      <td>2061725</td>\n",
       "      <td>4601412</td>\n",
       "      <td>11221</td>\n",
       "      <td>Apartment</td>\n",
       "      <td>Private room</td>\n",
       "      <td>2</td>\n",
       "      <td>1.0</td>\n",
       "      <td>1.0</td>\n",
       "      <td>2.0</td>\n",
       "      <td>Real Bed</td>\n",
       "      <td>58.00</td>\n",
       "      <td>3</td>\n",
       "      <td>4</td>\n",
       "      <td>35</td>\n",
       "      <td>1</td>\n",
       "      <td>4</td>\n",
       "    </tr>\n",
       "    <tr>\n",
       "      <th>3</th>\n",
       "      <td>44974</td>\n",
       "      <td>198425</td>\n",
       "      <td>10011</td>\n",
       "      <td>Apartment</td>\n",
       "      <td>Entire home/apt</td>\n",
       "      <td>2</td>\n",
       "      <td>1.0</td>\n",
       "      <td>1.0</td>\n",
       "      <td>1.0</td>\n",
       "      <td>Real Bed</td>\n",
       "      <td>185.00</td>\n",
       "      <td>10</td>\n",
       "      <td>1</td>\n",
       "      <td>26</td>\n",
       "      <td>1</td>\n",
       "      <td>1</td>\n",
       "    </tr>\n",
       "    <tr>\n",
       "      <th>4</th>\n",
       "      <td>4701675</td>\n",
       "      <td>22590025</td>\n",
       "      <td>10011</td>\n",
       "      <td>Apartment</td>\n",
       "      <td>Entire home/apt</td>\n",
       "      <td>2</td>\n",
       "      <td>1.0</td>\n",
       "      <td>1.0</td>\n",
       "      <td>2.0</td>\n",
       "      <td>Real Bed</td>\n",
       "      <td>195.00</td>\n",
       "      <td>1</td>\n",
       "      <td>30</td>\n",
       "      <td>1</td>\n",
       "      <td>1</td>\n",
       "      <td>1</td>\n",
       "    </tr>\n",
       "    <tr>\n",
       "      <th>5</th>\n",
       "      <td>68914</td>\n",
       "      <td>343302</td>\n",
       "      <td>11231</td>\n",
       "      <td>Apartment</td>\n",
       "      <td>Entire home/apt</td>\n",
       "      <td>6</td>\n",
       "      <td>1.0</td>\n",
       "      <td>2.0</td>\n",
       "      <td>3.0</td>\n",
       "      <td>Real Bed</td>\n",
       "      <td>165.00</td>\n",
       "      <td>2</td>\n",
       "      <td>11</td>\n",
       "      <td>16</td>\n",
       "      <td>1</td>\n",
       "      <td>2</td>\n",
       "    </tr>\n",
       "  </tbody>\n",
       "</table>\n",
       "</div>"
      ],
      "text/plain": [
       "        id   host_id zipcode property_type        room_type  accommodates  \\\n",
       "0  1069266   5867023   10022     Apartment  Entire home/apt             2   \n",
       "2  2061725   4601412   11221     Apartment     Private room             2   \n",
       "3    44974    198425   10011     Apartment  Entire home/apt             2   \n",
       "4  4701675  22590025   10011     Apartment  Entire home/apt             2   \n",
       "5    68914    343302   11231     Apartment  Entire home/apt             6   \n",
       "\n",
       "   bathrooms  bedrooms  beds  bed_type    price  minimum_nights  \\\n",
       "0        1.0       1.0   1.0  Real Bed  160.00                3   \n",
       "2        1.0       1.0   2.0  Real Bed   58.00                3   \n",
       "3        1.0       1.0   1.0  Real Bed  185.00               10   \n",
       "4        1.0       1.0   2.0  Real Bed  195.00                1   \n",
       "5        1.0       2.0   3.0  Real Bed  165.00                2   \n",
       "\n",
       "   availability_30  number_of_reviews review_scores_rating  host_listing_count  \n",
       "0               21                 62                    3                   1  \n",
       "2                4                 35                    1                   4  \n",
       "3                1                 26                    1                   1  \n",
       "4               30                  1                    1                   1  \n",
       "5               11                 16                    1                   2  "
      ]
     },
     "execution_count": 37,
     "metadata": {},
     "output_type": "execute_result"
    }
   ],
   "source": [
    "data['review_scores_rating'] = data['review_scores_rating'].apply(convert_scores_buckets)\n",
    "data.head()"
   ]
  },
  {
   "cell_type": "markdown",
   "id": "1ee8a509-cb5d-4f3a-b3fb-9f6734258e97",
   "metadata": {},
   "source": [
    "8. Encode categorical variables"
   ]
  },
  {
   "cell_type": "code",
   "execution_count": 38,
   "id": "d3d7f074-a9bf-4000-815e-ca23477b777f",
   "metadata": {},
   "outputs": [],
   "source": [
    "property_dummies = pd.get_dummies(data['property_type']).astype(int)\n",
    "room_type = pd.get_dummies(data['room_type']).astype(int)\n",
    "bed_type = pd.get_dummies(data['bed_type']).astype(int)"
   ]
  },
  {
   "cell_type": "code",
   "execution_count": 39,
   "id": "2584596c-8ffd-4ff8-b808-3e4d1193ed5e",
   "metadata": {},
   "outputs": [
    {
     "data": {
      "text/html": [
       "<div>\n",
       "<style scoped>\n",
       "    .dataframe tbody tr th:only-of-type {\n",
       "        vertical-align: middle;\n",
       "    }\n",
       "\n",
       "    .dataframe tbody tr th {\n",
       "        vertical-align: top;\n",
       "    }\n",
       "\n",
       "    .dataframe thead th {\n",
       "        text-align: right;\n",
       "    }\n",
       "</style>\n",
       "<table border=\"1\" class=\"dataframe\">\n",
       "  <thead>\n",
       "    <tr style=\"text-align: right;\">\n",
       "      <th></th>\n",
       "      <th>id</th>\n",
       "      <th>host_id</th>\n",
       "      <th>zipcode</th>\n",
       "      <th>property_type</th>\n",
       "      <th>room_type</th>\n",
       "      <th>accommodates</th>\n",
       "      <th>bathrooms</th>\n",
       "      <th>bedrooms</th>\n",
       "      <th>beds</th>\n",
       "      <th>bed_type</th>\n",
       "      <th>price</th>\n",
       "      <th>minimum_nights</th>\n",
       "      <th>availability_30</th>\n",
       "      <th>number_of_reviews</th>\n",
       "      <th>review_scores_rating</th>\n",
       "      <th>host_listing_count</th>\n",
       "    </tr>\n",
       "  </thead>\n",
       "  <tbody>\n",
       "    <tr>\n",
       "      <th>0</th>\n",
       "      <td>1069266</td>\n",
       "      <td>5867023</td>\n",
       "      <td>10022</td>\n",
       "      <td>Apartment</td>\n",
       "      <td>Entire home/apt</td>\n",
       "      <td>2</td>\n",
       "      <td>1.0</td>\n",
       "      <td>1.0</td>\n",
       "      <td>1.0</td>\n",
       "      <td>Real Bed</td>\n",
       "      <td>160.00</td>\n",
       "      <td>3</td>\n",
       "      <td>21</td>\n",
       "      <td>62</td>\n",
       "      <td>3</td>\n",
       "      <td>1</td>\n",
       "    </tr>\n",
       "    <tr>\n",
       "      <th>2</th>\n",
       "      <td>2061725</td>\n",
       "      <td>4601412</td>\n",
       "      <td>11221</td>\n",
       "      <td>Apartment</td>\n",
       "      <td>Private room</td>\n",
       "      <td>2</td>\n",
       "      <td>1.0</td>\n",
       "      <td>1.0</td>\n",
       "      <td>2.0</td>\n",
       "      <td>Real Bed</td>\n",
       "      <td>58.00</td>\n",
       "      <td>3</td>\n",
       "      <td>4</td>\n",
       "      <td>35</td>\n",
       "      <td>1</td>\n",
       "      <td>4</td>\n",
       "    </tr>\n",
       "    <tr>\n",
       "      <th>3</th>\n",
       "      <td>44974</td>\n",
       "      <td>198425</td>\n",
       "      <td>10011</td>\n",
       "      <td>Apartment</td>\n",
       "      <td>Entire home/apt</td>\n",
       "      <td>2</td>\n",
       "      <td>1.0</td>\n",
       "      <td>1.0</td>\n",
       "      <td>1.0</td>\n",
       "      <td>Real Bed</td>\n",
       "      <td>185.00</td>\n",
       "      <td>10</td>\n",
       "      <td>1</td>\n",
       "      <td>26</td>\n",
       "      <td>1</td>\n",
       "      <td>1</td>\n",
       "    </tr>\n",
       "    <tr>\n",
       "      <th>4</th>\n",
       "      <td>4701675</td>\n",
       "      <td>22590025</td>\n",
       "      <td>10011</td>\n",
       "      <td>Apartment</td>\n",
       "      <td>Entire home/apt</td>\n",
       "      <td>2</td>\n",
       "      <td>1.0</td>\n",
       "      <td>1.0</td>\n",
       "      <td>2.0</td>\n",
       "      <td>Real Bed</td>\n",
       "      <td>195.00</td>\n",
       "      <td>1</td>\n",
       "      <td>30</td>\n",
       "      <td>1</td>\n",
       "      <td>1</td>\n",
       "      <td>1</td>\n",
       "    </tr>\n",
       "    <tr>\n",
       "      <th>5</th>\n",
       "      <td>68914</td>\n",
       "      <td>343302</td>\n",
       "      <td>11231</td>\n",
       "      <td>Apartment</td>\n",
       "      <td>Entire home/apt</td>\n",
       "      <td>6</td>\n",
       "      <td>1.0</td>\n",
       "      <td>2.0</td>\n",
       "      <td>3.0</td>\n",
       "      <td>Real Bed</td>\n",
       "      <td>165.00</td>\n",
       "      <td>2</td>\n",
       "      <td>11</td>\n",
       "      <td>16</td>\n",
       "      <td>1</td>\n",
       "      <td>2</td>\n",
       "    </tr>\n",
       "  </tbody>\n",
       "</table>\n",
       "</div>"
      ],
      "text/plain": [
       "        id   host_id zipcode property_type        room_type  accommodates  \\\n",
       "0  1069266   5867023   10022     Apartment  Entire home/apt             2   \n",
       "2  2061725   4601412   11221     Apartment     Private room             2   \n",
       "3    44974    198425   10011     Apartment  Entire home/apt             2   \n",
       "4  4701675  22590025   10011     Apartment  Entire home/apt             2   \n",
       "5    68914    343302   11231     Apartment  Entire home/apt             6   \n",
       "\n",
       "   bathrooms  bedrooms  beds  bed_type    price  minimum_nights  \\\n",
       "0        1.0       1.0   1.0  Real Bed  160.00                3   \n",
       "2        1.0       1.0   2.0  Real Bed   58.00                3   \n",
       "3        1.0       1.0   1.0  Real Bed  185.00               10   \n",
       "4        1.0       1.0   2.0  Real Bed  195.00                1   \n",
       "5        1.0       2.0   3.0  Real Bed  165.00                2   \n",
       "\n",
       "   availability_30  number_of_reviews review_scores_rating  host_listing_count  \n",
       "0               21                 62                    3                   1  \n",
       "2                4                 35                    1                   4  \n",
       "3                1                 26                    1                   1  \n",
       "4               30                  1                    1                   1  \n",
       "5               11                 16                    1                   2  "
      ]
     },
     "execution_count": 39,
     "metadata": {},
     "output_type": "execute_result"
    }
   ],
   "source": [
    "data.head()"
   ]
  },
  {
   "cell_type": "code",
   "execution_count": 40,
   "id": "96c8132c-52d4-4945-a6f2-b2ad31b6609a",
   "metadata": {},
   "outputs": [],
   "source": [
    "data = pd.get_dummies(data, columns=[\"property_type\", \"room_type\",'bed_type'], \n",
    "               prefix=[\"property\", \"room\",'bed_type']).head()"
   ]
  },
  {
   "cell_type": "code",
   "execution_count": 41,
   "id": "d82a404e-e832-498d-864b-d3a6d6f6abd6",
   "metadata": {},
   "outputs": [
    {
     "data": {
      "text/plain": [
       "['id',\n",
       " 'host_id',\n",
       " 'zipcode',\n",
       " 'accommodates',\n",
       " 'bathrooms',\n",
       " 'bedrooms',\n",
       " 'beds',\n",
       " 'price',\n",
       " 'minimum_nights',\n",
       " 'availability_30',\n",
       " 'number_of_reviews',\n",
       " 'review_scores_rating',\n",
       " 'host_listing_count',\n",
       " 'property_Apartment',\n",
       " 'property_Bed & Breakfast',\n",
       " 'property_Boat',\n",
       " 'property_Cabin',\n",
       " 'property_Camper/RV',\n",
       " 'property_Castle',\n",
       " 'property_Cave',\n",
       " 'property_Chalet',\n",
       " 'property_Dorm',\n",
       " 'property_Earth House',\n",
       " 'property_House',\n",
       " 'property_Hut',\n",
       " 'property_Lighthouse',\n",
       " 'property_Loft',\n",
       " 'property_Other',\n",
       " 'property_Tent',\n",
       " 'property_Treehouse',\n",
       " 'property_Villa',\n",
       " 'room_Entire home/apt',\n",
       " 'room_Private room',\n",
       " 'room_Shared room',\n",
       " 'bed_type_Airbed',\n",
       " 'bed_type_Couch',\n",
       " 'bed_type_Futon',\n",
       " 'bed_type_Pull-out Sofa',\n",
       " 'bed_type_Real Bed']"
      ]
     },
     "execution_count": 41,
     "metadata": {},
     "output_type": "execute_result"
    }
   ],
   "source": [
    "data.columns.tolist()"
   ]
  },
  {
   "cell_type": "markdown",
   "id": "414145c2-8c24-4551-81ec-ca5365d62724",
   "metadata": {},
   "source": [
    "10. Convert non-categorical variables to floats and normalize"
   ]
  },
  {
   "cell_type": "code",
   "execution_count": 42,
   "id": "dec8a04f-6eec-4bbf-818d-a2896aa61fd4",
   "metadata": {},
   "outputs": [],
   "source": [
    "def normalize(col):\n",
    "    mean = np.mean(col)\n",
    "    std = np.std(col)\n",
    "    return col.apply(lambda x: (x - mean) / std)\n",
    "    \n",
    "\n",
    "\n",
    "non_cat_vars = ['accommodates', 'bedrooms', 'beds', 'number_of_reviews', \n",
    "                'host_listing_count', 'availability_30', 'minimum_nights']\n",
    "\n",
    "\n",
    "for col in non_cat_vars:\n",
    "    data[col] = data[col].astype(float)\n",
    "    data[col] = normalize(data[col])"
   ]
  },
  {
   "cell_type": "code",
   "execution_count": 43,
   "id": "768f3f4d-8472-4438-a20b-7b46cb46ecff",
   "metadata": {},
   "outputs": [
    {
     "data": {
      "text/html": [
       "<div>\n",
       "<style scoped>\n",
       "    .dataframe tbody tr th:only-of-type {\n",
       "        vertical-align: middle;\n",
       "    }\n",
       "\n",
       "    .dataframe tbody tr th {\n",
       "        vertical-align: top;\n",
       "    }\n",
       "\n",
       "    .dataframe thead th {\n",
       "        text-align: right;\n",
       "    }\n",
       "</style>\n",
       "<table border=\"1\" class=\"dataframe\">\n",
       "  <thead>\n",
       "    <tr style=\"text-align: right;\">\n",
       "      <th></th>\n",
       "      <th>id</th>\n",
       "      <th>host_id</th>\n",
       "      <th>zipcode</th>\n",
       "      <th>accommodates</th>\n",
       "      <th>bathrooms</th>\n",
       "      <th>bedrooms</th>\n",
       "      <th>beds</th>\n",
       "      <th>price</th>\n",
       "      <th>minimum_nights</th>\n",
       "      <th>availability_30</th>\n",
       "      <th>...</th>\n",
       "      <th>property_Treehouse</th>\n",
       "      <th>property_Villa</th>\n",
       "      <th>room_Entire home/apt</th>\n",
       "      <th>room_Private room</th>\n",
       "      <th>room_Shared room</th>\n",
       "      <th>bed_type_Airbed</th>\n",
       "      <th>bed_type_Couch</th>\n",
       "      <th>bed_type_Futon</th>\n",
       "      <th>bed_type_Pull-out Sofa</th>\n",
       "      <th>bed_type_Real Bed</th>\n",
       "    </tr>\n",
       "  </thead>\n",
       "  <tbody>\n",
       "    <tr>\n",
       "      <th>0</th>\n",
       "      <td>1069266</td>\n",
       "      <td>5867023</td>\n",
       "      <td>10022</td>\n",
       "      <td>-0.5</td>\n",
       "      <td>1.0</td>\n",
       "      <td>-0.5</td>\n",
       "      <td>-1.069045</td>\n",
       "      <td>160.00</td>\n",
       "      <td>-0.250982</td>\n",
       "      <td>0.704913</td>\n",
       "      <td>...</td>\n",
       "      <td>0</td>\n",
       "      <td>0</td>\n",
       "      <td>1</td>\n",
       "      <td>0</td>\n",
       "      <td>0</td>\n",
       "      <td>0</td>\n",
       "      <td>0</td>\n",
       "      <td>0</td>\n",
       "      <td>0</td>\n",
       "      <td>1</td>\n",
       "    </tr>\n",
       "    <tr>\n",
       "      <th>2</th>\n",
       "      <td>2061725</td>\n",
       "      <td>4601412</td>\n",
       "      <td>11221</td>\n",
       "      <td>-0.5</td>\n",
       "      <td>1.0</td>\n",
       "      <td>-0.5</td>\n",
       "      <td>0.267261</td>\n",
       "      <td>58.00</td>\n",
       "      <td>-0.250982</td>\n",
       "      <td>-0.871867</td>\n",
       "      <td>...</td>\n",
       "      <td>0</td>\n",
       "      <td>0</td>\n",
       "      <td>0</td>\n",
       "      <td>1</td>\n",
       "      <td>0</td>\n",
       "      <td>0</td>\n",
       "      <td>0</td>\n",
       "      <td>0</td>\n",
       "      <td>0</td>\n",
       "      <td>1</td>\n",
       "    </tr>\n",
       "    <tr>\n",
       "      <th>3</th>\n",
       "      <td>44974</td>\n",
       "      <td>198425</td>\n",
       "      <td>10011</td>\n",
       "      <td>-0.5</td>\n",
       "      <td>1.0</td>\n",
       "      <td>-0.5</td>\n",
       "      <td>-1.069045</td>\n",
       "      <td>185.00</td>\n",
       "      <td>1.945113</td>\n",
       "      <td>-1.150122</td>\n",
       "      <td>...</td>\n",
       "      <td>0</td>\n",
       "      <td>0</td>\n",
       "      <td>1</td>\n",
       "      <td>0</td>\n",
       "      <td>0</td>\n",
       "      <td>0</td>\n",
       "      <td>0</td>\n",
       "      <td>0</td>\n",
       "      <td>0</td>\n",
       "      <td>1</td>\n",
       "    </tr>\n",
       "    <tr>\n",
       "      <th>4</th>\n",
       "      <td>4701675</td>\n",
       "      <td>22590025</td>\n",
       "      <td>10011</td>\n",
       "      <td>-0.5</td>\n",
       "      <td>1.0</td>\n",
       "      <td>-0.5</td>\n",
       "      <td>0.267261</td>\n",
       "      <td>195.00</td>\n",
       "      <td>-0.878438</td>\n",
       "      <td>1.539679</td>\n",
       "      <td>...</td>\n",
       "      <td>0</td>\n",
       "      <td>0</td>\n",
       "      <td>1</td>\n",
       "      <td>0</td>\n",
       "      <td>0</td>\n",
       "      <td>0</td>\n",
       "      <td>0</td>\n",
       "      <td>0</td>\n",
       "      <td>0</td>\n",
       "      <td>1</td>\n",
       "    </tr>\n",
       "    <tr>\n",
       "      <th>5</th>\n",
       "      <td>68914</td>\n",
       "      <td>343302</td>\n",
       "      <td>11231</td>\n",
       "      <td>2.0</td>\n",
       "      <td>1.0</td>\n",
       "      <td>2.0</td>\n",
       "      <td>1.603567</td>\n",
       "      <td>165.00</td>\n",
       "      <td>-0.564710</td>\n",
       "      <td>-0.222604</td>\n",
       "      <td>...</td>\n",
       "      <td>0</td>\n",
       "      <td>0</td>\n",
       "      <td>1</td>\n",
       "      <td>0</td>\n",
       "      <td>0</td>\n",
       "      <td>0</td>\n",
       "      <td>0</td>\n",
       "      <td>0</td>\n",
       "      <td>0</td>\n",
       "      <td>1</td>\n",
       "    </tr>\n",
       "  </tbody>\n",
       "</table>\n",
       "<p>5 rows × 39 columns</p>\n",
       "</div>"
      ],
      "text/plain": [
       "        id   host_id zipcode  accommodates  bathrooms  bedrooms      beds  \\\n",
       "0  1069266   5867023   10022          -0.5        1.0      -0.5 -1.069045   \n",
       "2  2061725   4601412   11221          -0.5        1.0      -0.5  0.267261   \n",
       "3    44974    198425   10011          -0.5        1.0      -0.5 -1.069045   \n",
       "4  4701675  22590025   10011          -0.5        1.0      -0.5  0.267261   \n",
       "5    68914    343302   11231           2.0        1.0       2.0  1.603567   \n",
       "\n",
       "     price  minimum_nights  availability_30  ...  property_Treehouse  \\\n",
       "0  160.00        -0.250982         0.704913  ...                   0   \n",
       "2   58.00        -0.250982        -0.871867  ...                   0   \n",
       "3  185.00         1.945113        -1.150122  ...                   0   \n",
       "4  195.00        -0.878438         1.539679  ...                   0   \n",
       "5  165.00        -0.564710        -0.222604  ...                   0   \n",
       "\n",
       "  property_Villa  room_Entire home/apt  room_Private room  room_Shared room  \\\n",
       "0              0                     1                  0                 0   \n",
       "2              0                     0                  1                 0   \n",
       "3              0                     1                  0                 0   \n",
       "4              0                     1                  0                 0   \n",
       "5              0                     1                  0                 0   \n",
       "\n",
       "   bed_type_Airbed  bed_type_Couch  bed_type_Futon  bed_type_Pull-out Sofa  \\\n",
       "0                0               0               0                       0   \n",
       "2                0               0               0                       0   \n",
       "3                0               0               0                       0   \n",
       "4                0               0               0                       0   \n",
       "5                0               0               0                       0   \n",
       "\n",
       "   bed_type_Real Bed  \n",
       "0                  1  \n",
       "2                  1  \n",
       "3                  1  \n",
       "4                  1  \n",
       "5                  1  \n",
       "\n",
       "[5 rows x 39 columns]"
      ]
     },
     "execution_count": 43,
     "metadata": {},
     "output_type": "execute_result"
    }
   ],
   "source": [
    "data.head()"
   ]
  },
  {
   "cell_type": "code",
   "execution_count": 44,
   "id": "3c44ed31-7711-4dc4-b5bc-25f252ce8f3e",
   "metadata": {},
   "outputs": [
    {
     "data": {
      "image/png": "[encoded data removed]",
      "text/plain": [
       "<Figure size 432x288 with 1 Axes>"
      ]
     },
     "metadata": {
      "needs_background": "light"
     },
     "output_type": "display_data"
    }
   ],
   "source": [
    "# Visualize distribution of price (target variable)\n",
    "\n",
    "plt.hist(data['price'], bins=50, color = 'skyblue')\n",
    "plt.title(\"Histogram of Pricing\")\n",
    "plt.xlabel(\"Pricing (USD) Per Day\")\n",
    "plt.ylabel(\"Frequency\")\n",
    "plt.show()"
   ]
  }
 ],
 "metadata": {
  "kernelspec": {
   "display_name": "Python 3 (ipykernel)",
   "language": "python",
   "name": "python3"
  },
  "language_info": {
   "codemirror_mode": {
    "name": "ipython",
    "version": 3
   },
   "file_extension": ".py",
   "mimetype": "text/x-python",
   "name": "python",
   "nbconvert_exporter": "python",
   "pygments_lexer": "ipython3",
   "version": "3.8.15"
  }
 },
 "nbformat": 4,
 "nbformat_minor": 5
}
